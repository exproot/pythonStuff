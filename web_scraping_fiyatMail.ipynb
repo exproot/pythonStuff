{
  "nbformat": 4,
  "nbformat_minor": 0,
  "metadata": {
    "colab": {
      "provenance": [],
      "include_colab_link": true
    },
    "kernelspec": {
      "name": "python3",
      "display_name": "Python 3"
    },
    "language_info": {
      "name": "python"
    }
  },
  "cells": [
    {
      "cell_type": "markdown",
      "metadata": {
        "id": "view-in-github",
        "colab_type": "text"
      },
      "source": [
        "<a href=\"https://colab.research.google.com/github/exproot/python/blob/main/web_scraping_fiyatMail.ipynb\" target=\"_parent\"><img src=\"https://colab.research.google.com/assets/colab-badge.svg\" alt=\"Open In Colab\"/></a>"
      ]
    },
    {
      "cell_type": "markdown",
      "source": [
        "fiyat_kontrol\n",
        "--------------------------------------------------\n",
        "sayfaya istek gönder\n",
        "\n",
        "saydaki titleı al\n",
        "\n",
        "ürünün fiyat bilgisini al\n",
        "\n",
        "indirim miktarını kullanıcıdan al\n",
        "\n",
        "karşılaştır eğer düşmüşse diğer fonksiyonu çağır\n",
        "\n",
        "\n",
        "mail_gonder\n",
        "--------------------------------------------------\n",
        "parametre olarak ürün başlığı ve fiyatı alıyor.\n",
        "\n",
        "mail hesabı bilgisi alınır\n",
        "\n",
        "smptlib modülü ile mail gönderilir."
      ],
      "metadata": {
        "id": "TExVjBxw5iUz"
      }
    },
    {
      "cell_type": "code",
      "execution_count": null,
      "metadata": {
        "id": "KxswW8495WLM"
      },
      "outputs": [],
      "source": [
        "import smtplib\n",
        "import requests\n",
        "from bs4 import BeautifulSoup\n",
        "\n",
        "url = 'https://www.hepsiburada.com/gigabyte-geforce-rtx-2060-6gb-192bit-gddr6-pci-express-3-0-ekran-karti-gv-n2060d6-6gd-2-0-pm-HBC000009HUMY'\n",
        "\n",
        "headers = {'User-Agent' : 'my user agent(google)'}\n",
        "\n",
        "Tr2Eng = str.maketrans(\"çğıöşü\", \"cgiosu\")\n",
        "\n",
        "def fiyat_kontrol():\n",
        "\n",
        "  response = requests.get(url, headers=headers)\n",
        "  soup = BeautifulSoup(response.content, 'html.parser')\n",
        "  baslik = soup.find(id = 'product-name').get_text().strip()\n",
        "  baslik = baslik.translate(Tr2Eng)\n",
        "  print(baslik)\n",
        "  \n",
        "  span = soup.find(id = 'offering-price')\n",
        "  icerik = span.attrs.get('content')\n",
        "  fiyat = float(icerik)\n",
        "  print(fiyat)\n",
        "\n",
        "  \n",
        "  deger = float(input('Hedef Fiyat ? '))\n",
        "\n"
        "  if(deger < fiyat) : \n",
        "    mail_gonder(baslik, fiyat) \n",
        "  \n",
        "\n",
        "def mail_gonder(baslik, fiyat):\n",
        "\n",
        "  server = smtplib.SMTP('smtp.gmail.com', 587)\n",
        "\n",
        "  server.ehlo()\n",
        "\n",
        "  server.starttls()\n",
        "\n",
        "  passwd = input(\"gmail şifre \\n\")\n",
        "\n",
        "  server.login(\"211118083@samsun.edu.tr\",passwd)\n",
        "\n",
        "  subject = \"Fiyat dustu !\"\n",
        "  body = baslik + \" Bu urunun fiyati dustu !!! \\nYENI FIYAT : \" + str(fiyat) + \" TL\" + \"\\n Link : \" + url\n",
        "\n",
        "  msg = f\"Subject : {subject}\\n\\n{body}\"\n",
        "\n",
        "  server.sendmail('211118083@samsun.edu.tr', '201188016@samsun.edu.tr', msg)\n",
        "  print(\"mail gönderildi.\")\n",
        "  server.quit() \n",
        "\n",
        "fiyat_kontrol()\n"
      ]
    },
    {
      "cell_type": "code",
      "source": [],
      "metadata": {
        "id": "HPeDOJxXHyFP"
      },
      "execution_count": null,
      "outputs": []
    }
  ]
}

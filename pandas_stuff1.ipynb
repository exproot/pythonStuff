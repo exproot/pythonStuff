{
  "nbformat": 4,
  "nbformat_minor": 0,
  "metadata": {
    "colab": {
      "provenance": [],
      "include_colab_link": true
    },
    "kernelspec": {
      "name": "python3",
      "display_name": "Python 3"
    },
    "language_info": {
      "name": "python"
    }
  },
  "cells": [
    {
      "cell_type": "markdown",
      "metadata": {
        "id": "view-in-github",
        "colab_type": "text"
      },
      "source": [
        "<a href=\"https://colab.research.google.com/github/exproot/python/blob/main/pandas_stuff1.ipynb\" target=\"_parent\"><img src=\"https://colab.research.google.com/assets/colab-badge.svg\" alt=\"Open In Colab\"/></a>"
      ]
    },
    {
      "cell_type": "markdown",
      "source": [
        "numpy ve pandas kütüphanelerini çağırdım."
      ],
      "metadata": {
        "id": "sVMYTTdDvK3N"
      }
    },
    {
      "cell_type": "code",
      "execution_count": 2,
      "metadata": {
        "id": "m1tVFIFkazYH"
      },
      "outputs": [],
      "source": [
        "import numpy as np\n",
        "import pandas as pd"
      ]
    },
    {
      "cell_type": "markdown",
      "source": [
        "Google Drive bağlantısı."
      ],
      "metadata": {
        "id": "jeMlqadMv9ql"
      }
    },
    {
      "cell_type": "code",
      "source": [
        "from google.colab import drive\n",
        "drive.mount('/content/drive')"
      ],
      "metadata": {
        "colab": {
          "base_uri": "https://localhost:8080/"
        },
        "id": "5INDflC1v2-J",
        "outputId": "2cca9364-899f-480b-99fa-418434182b21"
      },
      "execution_count": 1,
      "outputs": [
        {
          "output_type": "stream",
          "name": "stdout",
          "text": [
            "Mounted at /content/drive\n"
          ]
        }
      ]
    },
    {
      "cell_type": "markdown",
      "source": [
        "En az 3 eleman içeren iki tane farklı sözlük oluşturalım.\n",
        "Bu sözlükler 'Öğrenci No, İsim, Soyisim, Sinav1, Sinav2' özelliklerini içersin."
      ],
      "metadata": {
        "id": "hhj5m8Cts8Z8"
      }
    },
    {
      "cell_type": "code",
      "source": [
        "dict1 = np.array([[\"10001\", \"Ertan\", \"Yağmur\", 80,40], [\"10003\", \"Azra\", \"Ateş\",90,70], [\"10002\",\"Doğa\", \"Su\",35,70]])\n",
        "dict2 = np.array([[\"10005\", \"Berke\", \"Bora\", 20,85], [\"10006\", \"Alev\", \"Aydın\",95,74], [\"10004\",\"Kai\", \"Havertz\",29,14]])\n",
        "print(dict1)\n",
        "print(\"\\n\")\n",
        "print(dict2)"
      ],
      "metadata": {
        "colab": {
          "base_uri": "https://localhost:8080/"
        },
        "id": "m2XsV76ka2e5",
        "outputId": "7769439c-d23a-46e5-b6da-bf3fb4b0c16a"
      },
      "execution_count": 3,
      "outputs": [
        {
          "output_type": "stream",
          "name": "stdout",
          "text": [
            "[['10001' 'Ertan' 'Yağmur' '80' '40']\n",
            " ['10003' 'Azra' 'Ateş' '90' '70']\n",
            " ['10002' 'Doğa' 'Su' '35' '70']]\n",
            "\n",
            "\n",
            "[['10005' 'Berke' 'Bora' '20' '85']\n",
            " ['10006' 'Alev' 'Aydın' '95' '74']\n",
            " ['10004' 'Kai' 'Havertz' '29' '14']]\n"
          ]
        }
      ]
    },
    {
      "cell_type": "code",
      "source": [
        "index = [0,1,2]\n",
        "column = ['Öğr. No', 'İsim', 'Soyisim', 'Sınav1', 'Sınav2']"
      ],
      "metadata": {
        "id": "CTCAQMEYcq5L"
      },
      "execution_count": 4,
      "outputs": []
    },
    {
      "cell_type": "markdown",
      "source": [
        "Bu iki sözlükten iki tane farklı dataframe oluşturalım.\n",
        "2 dataframe'in de indexlerini Öğr. No ile değiştirelim."
      ],
      "metadata": {
        "id": "Jz6sRGOltIgM"
      }
    },
    {
      "cell_type": "code",
      "source": [
        "dataframe1 = pd.DataFrame(data = dict1, index = index, columns = column)\n",
        "dataframe2 = pd.DataFrame(data = dict2, index = index, columns = column)\n",
        "\n",
        "dataframe1.set_index('Öğr. No', inplace = True)\n",
        "dataframe2.set_index('Öğr. No', inplace = True)\n",
        "\n",
        "dataframe1 "
      ],
      "metadata": {
        "colab": {
          "base_uri": "https://localhost:8080/",
          "height": 175
        },
        "id": "VENZlpTMdFZ7",
        "outputId": "b9a877d1-c6da-48b0-8710-6120fa13c1ec"
      },
      "execution_count": 5,
      "outputs": [
        {
          "output_type": "execute_result",
          "data": {
            "text/plain": [
              "          İsim Soyisim Sınav1 Sınav2\n",
              "Öğr. No                             \n",
              "10001    Ertan  Yağmur     80     40\n",
              "10003     Azra    Ateş     90     70\n",
              "10002     Doğa      Su     35     70"
            ],
            "text/html": [
              "\n",
              "  <div id=\"df-7f66a1e6-12a8-4964-9a32-997072c3f0de\">\n",
              "    <div class=\"colab-df-container\">\n",
              "      <div>\n",
              "<style scoped>\n",
              "    .dataframe tbody tr th:only-of-type {\n",
              "        vertical-align: middle;\n",
              "    }\n",
              "\n",
              "    .dataframe tbody tr th {\n",
              "        vertical-align: top;\n",
              "    }\n",
              "\n",
              "    .dataframe thead th {\n",
              "        text-align: right;\n",
              "    }\n",
              "</style>\n",
              "<table border=\"1\" class=\"dataframe\">\n",
              "  <thead>\n",
              "    <tr style=\"text-align: right;\">\n",
              "      <th></th>\n",
              "      <th>İsim</th>\n",
              "      <th>Soyisim</th>\n",
              "      <th>Sınav1</th>\n",
              "      <th>Sınav2</th>\n",
              "    </tr>\n",
              "    <tr>\n",
              "      <th>Öğr. No</th>\n",
              "      <th></th>\n",
              "      <th></th>\n",
              "      <th></th>\n",
              "      <th></th>\n",
              "    </tr>\n",
              "  </thead>\n",
              "  <tbody>\n",
              "    <tr>\n",
              "      <th>10001</th>\n",
              "      <td>Ertan</td>\n",
              "      <td>Yağmur</td>\n",
              "      <td>80</td>\n",
              "      <td>40</td>\n",
              "    </tr>\n",
              "    <tr>\n",
              "      <th>10003</th>\n",
              "      <td>Azra</td>\n",
              "      <td>Ateş</td>\n",
              "      <td>90</td>\n",
              "      <td>70</td>\n",
              "    </tr>\n",
              "    <tr>\n",
              "      <th>10002</th>\n",
              "      <td>Doğa</td>\n",
              "      <td>Su</td>\n",
              "      <td>35</td>\n",
              "      <td>70</td>\n",
              "    </tr>\n",
              "  </tbody>\n",
              "</table>\n",
              "</div>\n",
              "      <button class=\"colab-df-convert\" onclick=\"convertToInteractive('df-7f66a1e6-12a8-4964-9a32-997072c3f0de')\"\n",
              "              title=\"Convert this dataframe to an interactive table.\"\n",
              "              style=\"display:none;\">\n",
              "        \n",
              "  <svg xmlns=\"http://www.w3.org/2000/svg\" height=\"24px\"viewBox=\"0 0 24 24\"\n",
              "       width=\"24px\">\n",
              "    <path d=\"M0 0h24v24H0V0z\" fill=\"none\"/>\n",
              "    <path d=\"M18.56 5.44l.94 2.06.94-2.06 2.06-.94-2.06-.94-.94-2.06-.94 2.06-2.06.94zm-11 1L8.5 8.5l.94-2.06 2.06-.94-2.06-.94L8.5 2.5l-.94 2.06-2.06.94zm10 10l.94 2.06.94-2.06 2.06-.94-2.06-.94-.94-2.06-.94 2.06-2.06.94z\"/><path d=\"M17.41 7.96l-1.37-1.37c-.4-.4-.92-.59-1.43-.59-.52 0-1.04.2-1.43.59L10.3 9.45l-7.72 7.72c-.78.78-.78 2.05 0 2.83L4 21.41c.39.39.9.59 1.41.59.51 0 1.02-.2 1.41-.59l7.78-7.78 2.81-2.81c.8-.78.8-2.07 0-2.86zM5.41 20L4 18.59l7.72-7.72 1.47 1.35L5.41 20z\"/>\n",
              "  </svg>\n",
              "      </button>\n",
              "      \n",
              "  <style>\n",
              "    .colab-df-container {\n",
              "      display:flex;\n",
              "      flex-wrap:wrap;\n",
              "      gap: 12px;\n",
              "    }\n",
              "\n",
              "    .colab-df-convert {\n",
              "      background-color: #E8F0FE;\n",
              "      border: none;\n",
              "      border-radius: 50%;\n",
              "      cursor: pointer;\n",
              "      display: none;\n",
              "      fill: #1967D2;\n",
              "      height: 32px;\n",
              "      padding: 0 0 0 0;\n",
              "      width: 32px;\n",
              "    }\n",
              "\n",
              "    .colab-df-convert:hover {\n",
              "      background-color: #E2EBFA;\n",
              "      box-shadow: 0px 1px 2px rgba(60, 64, 67, 0.3), 0px 1px 3px 1px rgba(60, 64, 67, 0.15);\n",
              "      fill: #174EA6;\n",
              "    }\n",
              "\n",
              "    [theme=dark] .colab-df-convert {\n",
              "      background-color: #3B4455;\n",
              "      fill: #D2E3FC;\n",
              "    }\n",
              "\n",
              "    [theme=dark] .colab-df-convert:hover {\n",
              "      background-color: #434B5C;\n",
              "      box-shadow: 0px 1px 3px 1px rgba(0, 0, 0, 0.15);\n",
              "      filter: drop-shadow(0px 1px 2px rgba(0, 0, 0, 0.3));\n",
              "      fill: #FFFFFF;\n",
              "    }\n",
              "  </style>\n",
              "\n",
              "      <script>\n",
              "        const buttonEl =\n",
              "          document.querySelector('#df-7f66a1e6-12a8-4964-9a32-997072c3f0de button.colab-df-convert');\n",
              "        buttonEl.style.display =\n",
              "          google.colab.kernel.accessAllowed ? 'block' : 'none';\n",
              "\n",
              "        async function convertToInteractive(key) {\n",
              "          const element = document.querySelector('#df-7f66a1e6-12a8-4964-9a32-997072c3f0de');\n",
              "          const dataTable =\n",
              "            await google.colab.kernel.invokeFunction('convertToInteractive',\n",
              "                                                     [key], {});\n",
              "          if (!dataTable) return;\n",
              "\n",
              "          const docLinkHtml = 'Like what you see? Visit the ' +\n",
              "            '<a target=\"_blank\" href=https://colab.research.google.com/notebooks/data_table.ipynb>data table notebook</a>'\n",
              "            + ' to learn more about interactive tables.';\n",
              "          element.innerHTML = '';\n",
              "          dataTable['output_type'] = 'display_data';\n",
              "          await google.colab.output.renderOutput(dataTable, element);\n",
              "          const docLink = document.createElement('div');\n",
              "          docLink.innerHTML = docLinkHtml;\n",
              "          element.appendChild(docLink);\n",
              "        }\n",
              "      </script>\n",
              "    </div>\n",
              "  </div>\n",
              "  "
            ]
          },
          "metadata": {},
          "execution_count": 5
        }
      ]
    },
    {
      "cell_type": "markdown",
      "source": [
        "Bu iki dataframe'i tek bir dataframe olarak birleştirelim."
      ],
      "metadata": {
        "id": "4dIQ4wxztcV_"
      }
    },
    {
      "cell_type": "code",
      "source": [
        "dataframe3 = pd.concat([dataframe1, dataframe2], axis = 0)\n",
        "dataframe3"
      ],
      "metadata": {
        "colab": {
          "base_uri": "https://localhost:8080/",
          "height": 269
        },
        "id": "bsBHaCQve4GG",
        "outputId": "5efa4c92-2957-4a90-97cd-6d72ad78d9b8"
      },
      "execution_count": 6,
      "outputs": [
        {
          "output_type": "execute_result",
          "data": {
            "text/plain": [
              "          İsim  Soyisim Sınav1 Sınav2\n",
              "Öğr. No                              \n",
              "10001    Ertan   Yağmur     80     40\n",
              "10003     Azra     Ateş     90     70\n",
              "10002     Doğa       Su     35     70\n",
              "10005    Berke     Bora     20     85\n",
              "10006     Alev    Aydın     95     74\n",
              "10004      Kai  Havertz     29     14"
            ],
            "text/html": [
              "\n",
              "  <div id=\"df-cfcd27df-9549-489c-8d00-ef2ea2969009\">\n",
              "    <div class=\"colab-df-container\">\n",
              "      <div>\n",
              "<style scoped>\n",
              "    .dataframe tbody tr th:only-of-type {\n",
              "        vertical-align: middle;\n",
              "    }\n",
              "\n",
              "    .dataframe tbody tr th {\n",
              "        vertical-align: top;\n",
              "    }\n",
              "\n",
              "    .dataframe thead th {\n",
              "        text-align: right;\n",
              "    }\n",
              "</style>\n",
              "<table border=\"1\" class=\"dataframe\">\n",
              "  <thead>\n",
              "    <tr style=\"text-align: right;\">\n",
              "      <th></th>\n",
              "      <th>İsim</th>\n",
              "      <th>Soyisim</th>\n",
              "      <th>Sınav1</th>\n",
              "      <th>Sınav2</th>\n",
              "    </tr>\n",
              "    <tr>\n",
              "      <th>Öğr. No</th>\n",
              "      <th></th>\n",
              "      <th></th>\n",
              "      <th></th>\n",
              "      <th></th>\n",
              "    </tr>\n",
              "  </thead>\n",
              "  <tbody>\n",
              "    <tr>\n",
              "      <th>10001</th>\n",
              "      <td>Ertan</td>\n",
              "      <td>Yağmur</td>\n",
              "      <td>80</td>\n",
              "      <td>40</td>\n",
              "    </tr>\n",
              "    <tr>\n",
              "      <th>10003</th>\n",
              "      <td>Azra</td>\n",
              "      <td>Ateş</td>\n",
              "      <td>90</td>\n",
              "      <td>70</td>\n",
              "    </tr>\n",
              "    <tr>\n",
              "      <th>10002</th>\n",
              "      <td>Doğa</td>\n",
              "      <td>Su</td>\n",
              "      <td>35</td>\n",
              "      <td>70</td>\n",
              "    </tr>\n",
              "    <tr>\n",
              "      <th>10005</th>\n",
              "      <td>Berke</td>\n",
              "      <td>Bora</td>\n",
              "      <td>20</td>\n",
              "      <td>85</td>\n",
              "    </tr>\n",
              "    <tr>\n",
              "      <th>10006</th>\n",
              "      <td>Alev</td>\n",
              "      <td>Aydın</td>\n",
              "      <td>95</td>\n",
              "      <td>74</td>\n",
              "    </tr>\n",
              "    <tr>\n",
              "      <th>10004</th>\n",
              "      <td>Kai</td>\n",
              "      <td>Havertz</td>\n",
              "      <td>29</td>\n",
              "      <td>14</td>\n",
              "    </tr>\n",
              "  </tbody>\n",
              "</table>\n",
              "</div>\n",
              "      <button class=\"colab-df-convert\" onclick=\"convertToInteractive('df-cfcd27df-9549-489c-8d00-ef2ea2969009')\"\n",
              "              title=\"Convert this dataframe to an interactive table.\"\n",
              "              style=\"display:none;\">\n",
              "        \n",
              "  <svg xmlns=\"http://www.w3.org/2000/svg\" height=\"24px\"viewBox=\"0 0 24 24\"\n",
              "       width=\"24px\">\n",
              "    <path d=\"M0 0h24v24H0V0z\" fill=\"none\"/>\n",
              "    <path d=\"M18.56 5.44l.94 2.06.94-2.06 2.06-.94-2.06-.94-.94-2.06-.94 2.06-2.06.94zm-11 1L8.5 8.5l.94-2.06 2.06-.94-2.06-.94L8.5 2.5l-.94 2.06-2.06.94zm10 10l.94 2.06.94-2.06 2.06-.94-2.06-.94-.94-2.06-.94 2.06-2.06.94z\"/><path d=\"M17.41 7.96l-1.37-1.37c-.4-.4-.92-.59-1.43-.59-.52 0-1.04.2-1.43.59L10.3 9.45l-7.72 7.72c-.78.78-.78 2.05 0 2.83L4 21.41c.39.39.9.59 1.41.59.51 0 1.02-.2 1.41-.59l7.78-7.78 2.81-2.81c.8-.78.8-2.07 0-2.86zM5.41 20L4 18.59l7.72-7.72 1.47 1.35L5.41 20z\"/>\n",
              "  </svg>\n",
              "      </button>\n",
              "      \n",
              "  <style>\n",
              "    .colab-df-container {\n",
              "      display:flex;\n",
              "      flex-wrap:wrap;\n",
              "      gap: 12px;\n",
              "    }\n",
              "\n",
              "    .colab-df-convert {\n",
              "      background-color: #E8F0FE;\n",
              "      border: none;\n",
              "      border-radius: 50%;\n",
              "      cursor: pointer;\n",
              "      display: none;\n",
              "      fill: #1967D2;\n",
              "      height: 32px;\n",
              "      padding: 0 0 0 0;\n",
              "      width: 32px;\n",
              "    }\n",
              "\n",
              "    .colab-df-convert:hover {\n",
              "      background-color: #E2EBFA;\n",
              "      box-shadow: 0px 1px 2px rgba(60, 64, 67, 0.3), 0px 1px 3px 1px rgba(60, 64, 67, 0.15);\n",
              "      fill: #174EA6;\n",
              "    }\n",
              "\n",
              "    [theme=dark] .colab-df-convert {\n",
              "      background-color: #3B4455;\n",
              "      fill: #D2E3FC;\n",
              "    }\n",
              "\n",
              "    [theme=dark] .colab-df-convert:hover {\n",
              "      background-color: #434B5C;\n",
              "      box-shadow: 0px 1px 3px 1px rgba(0, 0, 0, 0.15);\n",
              "      filter: drop-shadow(0px 1px 2px rgba(0, 0, 0, 0.3));\n",
              "      fill: #FFFFFF;\n",
              "    }\n",
              "  </style>\n",
              "\n",
              "      <script>\n",
              "        const buttonEl =\n",
              "          document.querySelector('#df-cfcd27df-9549-489c-8d00-ef2ea2969009 button.colab-df-convert');\n",
              "        buttonEl.style.display =\n",
              "          google.colab.kernel.accessAllowed ? 'block' : 'none';\n",
              "\n",
              "        async function convertToInteractive(key) {\n",
              "          const element = document.querySelector('#df-cfcd27df-9549-489c-8d00-ef2ea2969009');\n",
              "          const dataTable =\n",
              "            await google.colab.kernel.invokeFunction('convertToInteractive',\n",
              "                                                     [key], {});\n",
              "          if (!dataTable) return;\n",
              "\n",
              "          const docLinkHtml = 'Like what you see? Visit the ' +\n",
              "            '<a target=\"_blank\" href=https://colab.research.google.com/notebooks/data_table.ipynb>data table notebook</a>'\n",
              "            + ' to learn more about interactive tables.';\n",
              "          element.innerHTML = '';\n",
              "          dataTable['output_type'] = 'display_data';\n",
              "          await google.colab.output.renderOutput(dataTable, element);\n",
              "          const docLink = document.createElement('div');\n",
              "          docLink.innerHTML = docLinkHtml;\n",
              "          element.appendChild(docLink);\n",
              "        }\n",
              "      </script>\n",
              "    </div>\n",
              "  </div>\n",
              "  "
            ]
          },
          "metadata": {},
          "execution_count": 6
        }
      ]
    },
    {
      "cell_type": "markdown",
      "source": [
        "'Ortalama' dizisini oluşturup değerlerini hesaplarken aşağıdaki formülü kullanalım.\n",
        "(Sinav1* 40 / 100) + (Sinav2* 60 / 100)\n",
        "\n",
        "ve ortalamaları dizimize kaydedelim."
      ],
      "metadata": {
        "id": "Kv2UmSm7tg21"
      }
    },
    {
      "cell_type": "code",
      "source": [
        "ortalamalar = np.zeros(6) # ortalama dizisini oluşturdum.\n",
        "\n",
        "# ortalamayı bulacak fonksiyonu hazırladım.\n",
        "def hesapla(x,y):                 \n",
        "  formul = (x * 40 + y * 60)/100\n",
        "  return formul\n",
        "\n",
        "\n",
        "#dataframelerden sınav1 ve sınav2 yi getirip fonksiyonda kullandım ve ortalamarı dizimize kaydettim.\n",
        "for i in range(0,3):\n",
        "  ortalamalar[i] = hesapla(int(dataframe1['Sınav1'][i]), int(dataframe1['Sınav2'][i]))\n",
        "\n",
        "\n",
        "for i in range(3,6):\n",
        "  ortalamalar[i] = hesapla(int(dataframe2['Sınav1'][i-3]), int(dataframe2['Sınav2'][i-3]))\n",
        "\n"
      ],
      "metadata": {
        "id": "N5Qwjv-hge-n"
      },
      "execution_count": 7,
      "outputs": []
    },
    {
      "cell_type": "markdown",
      "source": [
        "'Ortalama' Sütununu dataframe'e ekleyelim."
      ],
      "metadata": {
        "id": "FnlxWQWOuDQD"
      }
    },
    {
      "cell_type": "code",
      "source": [
        "dataframe3['Ortalama'] = pd.Series(data = ortalamalar, index = ['10001','10003','10002','10005','10006','10004'])\n",
        "dataframe3"
      ],
      "metadata": {
        "colab": {
          "base_uri": "https://localhost:8080/",
          "height": 269
        },
        "id": "tQnLw2wfpVOU",
        "outputId": "3338b5dc-a54d-450f-ec11-610c21347029"
      },
      "execution_count": 8,
      "outputs": [
        {
          "output_type": "execute_result",
          "data": {
            "text/plain": [
              "          İsim  Soyisim Sınav1 Sınav2  Ortalama\n",
              "Öğr. No                                        \n",
              "10001    Ertan   Yağmur     80     40      56.0\n",
              "10003     Azra     Ateş     90     70      78.0\n",
              "10002     Doğa       Su     35     70      56.0\n",
              "10005    Berke     Bora     20     85      59.0\n",
              "10006     Alev    Aydın     95     74      82.4\n",
              "10004      Kai  Havertz     29     14      20.0"
            ],
            "text/html": [
              "\n",
              "  <div id=\"df-79a6f70a-20b6-4e6b-9b2a-70bef82b1064\">\n",
              "    <div class=\"colab-df-container\">\n",
              "      <div>\n",
              "<style scoped>\n",
              "    .dataframe tbody tr th:only-of-type {\n",
              "        vertical-align: middle;\n",
              "    }\n",
              "\n",
              "    .dataframe tbody tr th {\n",
              "        vertical-align: top;\n",
              "    }\n",
              "\n",
              "    .dataframe thead th {\n",
              "        text-align: right;\n",
              "    }\n",
              "</style>\n",
              "<table border=\"1\" class=\"dataframe\">\n",
              "  <thead>\n",
              "    <tr style=\"text-align: right;\">\n",
              "      <th></th>\n",
              "      <th>İsim</th>\n",
              "      <th>Soyisim</th>\n",
              "      <th>Sınav1</th>\n",
              "      <th>Sınav2</th>\n",
              "      <th>Ortalama</th>\n",
              "    </tr>\n",
              "    <tr>\n",
              "      <th>Öğr. No</th>\n",
              "      <th></th>\n",
              "      <th></th>\n",
              "      <th></th>\n",
              "      <th></th>\n",
              "      <th></th>\n",
              "    </tr>\n",
              "  </thead>\n",
              "  <tbody>\n",
              "    <tr>\n",
              "      <th>10001</th>\n",
              "      <td>Ertan</td>\n",
              "      <td>Yağmur</td>\n",
              "      <td>80</td>\n",
              "      <td>40</td>\n",
              "      <td>56.0</td>\n",
              "    </tr>\n",
              "    <tr>\n",
              "      <th>10003</th>\n",
              "      <td>Azra</td>\n",
              "      <td>Ateş</td>\n",
              "      <td>90</td>\n",
              "      <td>70</td>\n",
              "      <td>78.0</td>\n",
              "    </tr>\n",
              "    <tr>\n",
              "      <th>10002</th>\n",
              "      <td>Doğa</td>\n",
              "      <td>Su</td>\n",
              "      <td>35</td>\n",
              "      <td>70</td>\n",
              "      <td>56.0</td>\n",
              "    </tr>\n",
              "    <tr>\n",
              "      <th>10005</th>\n",
              "      <td>Berke</td>\n",
              "      <td>Bora</td>\n",
              "      <td>20</td>\n",
              "      <td>85</td>\n",
              "      <td>59.0</td>\n",
              "    </tr>\n",
              "    <tr>\n",
              "      <th>10006</th>\n",
              "      <td>Alev</td>\n",
              "      <td>Aydın</td>\n",
              "      <td>95</td>\n",
              "      <td>74</td>\n",
              "      <td>82.4</td>\n",
              "    </tr>\n",
              "    <tr>\n",
              "      <th>10004</th>\n",
              "      <td>Kai</td>\n",
              "      <td>Havertz</td>\n",
              "      <td>29</td>\n",
              "      <td>14</td>\n",
              "      <td>20.0</td>\n",
              "    </tr>\n",
              "  </tbody>\n",
              "</table>\n",
              "</div>\n",
              "      <button class=\"colab-df-convert\" onclick=\"convertToInteractive('df-79a6f70a-20b6-4e6b-9b2a-70bef82b1064')\"\n",
              "              title=\"Convert this dataframe to an interactive table.\"\n",
              "              style=\"display:none;\">\n",
              "        \n",
              "  <svg xmlns=\"http://www.w3.org/2000/svg\" height=\"24px\"viewBox=\"0 0 24 24\"\n",
              "       width=\"24px\">\n",
              "    <path d=\"M0 0h24v24H0V0z\" fill=\"none\"/>\n",
              "    <path d=\"M18.56 5.44l.94 2.06.94-2.06 2.06-.94-2.06-.94-.94-2.06-.94 2.06-2.06.94zm-11 1L8.5 8.5l.94-2.06 2.06-.94-2.06-.94L8.5 2.5l-.94 2.06-2.06.94zm10 10l.94 2.06.94-2.06 2.06-.94-2.06-.94-.94-2.06-.94 2.06-2.06.94z\"/><path d=\"M17.41 7.96l-1.37-1.37c-.4-.4-.92-.59-1.43-.59-.52 0-1.04.2-1.43.59L10.3 9.45l-7.72 7.72c-.78.78-.78 2.05 0 2.83L4 21.41c.39.39.9.59 1.41.59.51 0 1.02-.2 1.41-.59l7.78-7.78 2.81-2.81c.8-.78.8-2.07 0-2.86zM5.41 20L4 18.59l7.72-7.72 1.47 1.35L5.41 20z\"/>\n",
              "  </svg>\n",
              "      </button>\n",
              "      \n",
              "  <style>\n",
              "    .colab-df-container {\n",
              "      display:flex;\n",
              "      flex-wrap:wrap;\n",
              "      gap: 12px;\n",
              "    }\n",
              "\n",
              "    .colab-df-convert {\n",
              "      background-color: #E8F0FE;\n",
              "      border: none;\n",
              "      border-radius: 50%;\n",
              "      cursor: pointer;\n",
              "      display: none;\n",
              "      fill: #1967D2;\n",
              "      height: 32px;\n",
              "      padding: 0 0 0 0;\n",
              "      width: 32px;\n",
              "    }\n",
              "\n",
              "    .colab-df-convert:hover {\n",
              "      background-color: #E2EBFA;\n",
              "      box-shadow: 0px 1px 2px rgba(60, 64, 67, 0.3), 0px 1px 3px 1px rgba(60, 64, 67, 0.15);\n",
              "      fill: #174EA6;\n",
              "    }\n",
              "\n",
              "    [theme=dark] .colab-df-convert {\n",
              "      background-color: #3B4455;\n",
              "      fill: #D2E3FC;\n",
              "    }\n",
              "\n",
              "    [theme=dark] .colab-df-convert:hover {\n",
              "      background-color: #434B5C;\n",
              "      box-shadow: 0px 1px 3px 1px rgba(0, 0, 0, 0.15);\n",
              "      filter: drop-shadow(0px 1px 2px rgba(0, 0, 0, 0.3));\n",
              "      fill: #FFFFFF;\n",
              "    }\n",
              "  </style>\n",
              "\n",
              "      <script>\n",
              "        const buttonEl =\n",
              "          document.querySelector('#df-79a6f70a-20b6-4e6b-9b2a-70bef82b1064 button.colab-df-convert');\n",
              "        buttonEl.style.display =\n",
              "          google.colab.kernel.accessAllowed ? 'block' : 'none';\n",
              "\n",
              "        async function convertToInteractive(key) {\n",
              "          const element = document.querySelector('#df-79a6f70a-20b6-4e6b-9b2a-70bef82b1064');\n",
              "          const dataTable =\n",
              "            await google.colab.kernel.invokeFunction('convertToInteractive',\n",
              "                                                     [key], {});\n",
              "          if (!dataTable) return;\n",
              "\n",
              "          const docLinkHtml = 'Like what you see? Visit the ' +\n",
              "            '<a target=\"_blank\" href=https://colab.research.google.com/notebooks/data_table.ipynb>data table notebook</a>'\n",
              "            + ' to learn more about interactive tables.';\n",
              "          element.innerHTML = '';\n",
              "          dataTable['output_type'] = 'display_data';\n",
              "          await google.colab.output.renderOutput(dataTable, element);\n",
              "          const docLink = document.createElement('div');\n",
              "          docLink.innerHTML = docLinkHtml;\n",
              "          element.appendChild(docLink);\n",
              "        }\n",
              "      </script>\n",
              "    </div>\n",
              "  </div>\n",
              "  "
            ]
          },
          "metadata": {},
          "execution_count": 8
        }
      ]
    },
    {
      "cell_type": "markdown",
      "source": [
        "Harfler dizisini oluşturup öğrencilerin ortalamasına göre harf notunu belirleyip diziye kaydedelim."
      ],
      "metadata": {
        "id": "jYef_WTouTHY"
      }
    },
    {
      "cell_type": "code",
      "source": [
        "harfler = np.array(['aa', 'bb', 'cc', 'dd', 'ee', 'gg']) # harfler dizisini oluşturdum, default olarak 6 tane 2 karakterlik string atadım.\n",
        "\n",
        "# harf notunu belirlemek için fonksiyon hazırladım.\n",
        "def sonuc(x):\n",
        "  if 90<x<100:\n",
        "    return 'AA'\n",
        "  elif 85<x<90:\n",
        "    return 'BA'\n",
        "  elif 80<x<85:\n",
        "    return 'BB'\n",
        "  elif 75<x<80:\n",
        "    return 'CB'\n",
        "  elif 70<x<75:\n",
        "    return 'CC'\n",
        "  elif 60<x<70:\n",
        "    return 'DC'\n",
        "  elif 50<x<60:\n",
        "    return 'DD'\n",
        "  elif x<50:\n",
        "    return 'FF'\n",
        "\n",
        "# Ortalamalar dizisinden ortalamaları çekip fonksiyonda kullanarak harf notlarını belirleyip diziye kaydettim.\n",
        "for i in range(0,6):\n",
        "  harfler[i] = sonuc(ortalamalar[i])\n",
        "\n",
        "harfler\n"
      ],
      "metadata": {
        "colab": {
          "base_uri": "https://localhost:8080/"
        },
        "id": "IGNu-tCKpbQ7",
        "outputId": "48d55b10-8d9d-4ac6-a44e-c9cefebacbe5"
      },
      "execution_count": 9,
      "outputs": [
        {
          "output_type": "execute_result",
          "data": {
            "text/plain": [
              "array(['DD', 'CB', 'DD', 'DD', 'BB', 'FF'], dtype='<U2')"
            ]
          },
          "metadata": {},
          "execution_count": 9
        }
      ]
    },
    {
      "cell_type": "markdown",
      "source": [
        "Harf Notu Sütununu dataframe'e ekleyelim."
      ],
      "metadata": {
        "id": "AjaMsmZwvDnI"
      }
    },
    {
      "cell_type": "code",
      "source": [
        "dataframe3['Harf Notu'] = pd.Series(data = harfler, index = ['10001','10003','10002','10005','10006','10004'])\n",
        "dataframe3"
      ],
      "metadata": {
        "colab": {
          "base_uri": "https://localhost:8080/",
          "height": 269
        },
        "id": "6uIeIIZWshie",
        "outputId": "8a560912-5ebd-4248-f324-5794b48ab8a7"
      },
      "execution_count": 10,
      "outputs": [
        {
          "output_type": "execute_result",
          "data": {
            "text/plain": [
              "          İsim  Soyisim Sınav1 Sınav2  Ortalama Harf Notu\n",
              "Öğr. No                                                  \n",
              "10001    Ertan   Yağmur     80     40      56.0        DD\n",
              "10003     Azra     Ateş     90     70      78.0        CB\n",
              "10002     Doğa       Su     35     70      56.0        DD\n",
              "10005    Berke     Bora     20     85      59.0        DD\n",
              "10006     Alev    Aydın     95     74      82.4        BB\n",
              "10004      Kai  Havertz     29     14      20.0        FF"
            ],
            "text/html": [
              "\n",
              "  <div id=\"df-d96141b4-a379-4b0f-bf77-9399ed622997\">\n",
              "    <div class=\"colab-df-container\">\n",
              "      <div>\n",
              "<style scoped>\n",
              "    .dataframe tbody tr th:only-of-type {\n",
              "        vertical-align: middle;\n",
              "    }\n",
              "\n",
              "    .dataframe tbody tr th {\n",
              "        vertical-align: top;\n",
              "    }\n",
              "\n",
              "    .dataframe thead th {\n",
              "        text-align: right;\n",
              "    }\n",
              "</style>\n",
              "<table border=\"1\" class=\"dataframe\">\n",
              "  <thead>\n",
              "    <tr style=\"text-align: right;\">\n",
              "      <th></th>\n",
              "      <th>İsim</th>\n",
              "      <th>Soyisim</th>\n",
              "      <th>Sınav1</th>\n",
              "      <th>Sınav2</th>\n",
              "      <th>Ortalama</th>\n",
              "      <th>Harf Notu</th>\n",
              "    </tr>\n",
              "    <tr>\n",
              "      <th>Öğr. No</th>\n",
              "      <th></th>\n",
              "      <th></th>\n",
              "      <th></th>\n",
              "      <th></th>\n",
              "      <th></th>\n",
              "      <th></th>\n",
              "    </tr>\n",
              "  </thead>\n",
              "  <tbody>\n",
              "    <tr>\n",
              "      <th>10001</th>\n",
              "      <td>Ertan</td>\n",
              "      <td>Yağmur</td>\n",
              "      <td>80</td>\n",
              "      <td>40</td>\n",
              "      <td>56.0</td>\n",
              "      <td>DD</td>\n",
              "    </tr>\n",
              "    <tr>\n",
              "      <th>10003</th>\n",
              "      <td>Azra</td>\n",
              "      <td>Ateş</td>\n",
              "      <td>90</td>\n",
              "      <td>70</td>\n",
              "      <td>78.0</td>\n",
              "      <td>CB</td>\n",
              "    </tr>\n",
              "    <tr>\n",
              "      <th>10002</th>\n",
              "      <td>Doğa</td>\n",
              "      <td>Su</td>\n",
              "      <td>35</td>\n",
              "      <td>70</td>\n",
              "      <td>56.0</td>\n",
              "      <td>DD</td>\n",
              "    </tr>\n",
              "    <tr>\n",
              "      <th>10005</th>\n",
              "      <td>Berke</td>\n",
              "      <td>Bora</td>\n",
              "      <td>20</td>\n",
              "      <td>85</td>\n",
              "      <td>59.0</td>\n",
              "      <td>DD</td>\n",
              "    </tr>\n",
              "    <tr>\n",
              "      <th>10006</th>\n",
              "      <td>Alev</td>\n",
              "      <td>Aydın</td>\n",
              "      <td>95</td>\n",
              "      <td>74</td>\n",
              "      <td>82.4</td>\n",
              "      <td>BB</td>\n",
              "    </tr>\n",
              "    <tr>\n",
              "      <th>10004</th>\n",
              "      <td>Kai</td>\n",
              "      <td>Havertz</td>\n",
              "      <td>29</td>\n",
              "      <td>14</td>\n",
              "      <td>20.0</td>\n",
              "      <td>FF</td>\n",
              "    </tr>\n",
              "  </tbody>\n",
              "</table>\n",
              "</div>\n",
              "      <button class=\"colab-df-convert\" onclick=\"convertToInteractive('df-d96141b4-a379-4b0f-bf77-9399ed622997')\"\n",
              "              title=\"Convert this dataframe to an interactive table.\"\n",
              "              style=\"display:none;\">\n",
              "        \n",
              "  <svg xmlns=\"http://www.w3.org/2000/svg\" height=\"24px\"viewBox=\"0 0 24 24\"\n",
              "       width=\"24px\">\n",
              "    <path d=\"M0 0h24v24H0V0z\" fill=\"none\"/>\n",
              "    <path d=\"M18.56 5.44l.94 2.06.94-2.06 2.06-.94-2.06-.94-.94-2.06-.94 2.06-2.06.94zm-11 1L8.5 8.5l.94-2.06 2.06-.94-2.06-.94L8.5 2.5l-.94 2.06-2.06.94zm10 10l.94 2.06.94-2.06 2.06-.94-2.06-.94-.94-2.06-.94 2.06-2.06.94z\"/><path d=\"M17.41 7.96l-1.37-1.37c-.4-.4-.92-.59-1.43-.59-.52 0-1.04.2-1.43.59L10.3 9.45l-7.72 7.72c-.78.78-.78 2.05 0 2.83L4 21.41c.39.39.9.59 1.41.59.51 0 1.02-.2 1.41-.59l7.78-7.78 2.81-2.81c.8-.78.8-2.07 0-2.86zM5.41 20L4 18.59l7.72-7.72 1.47 1.35L5.41 20z\"/>\n",
              "  </svg>\n",
              "      </button>\n",
              "      \n",
              "  <style>\n",
              "    .colab-df-container {\n",
              "      display:flex;\n",
              "      flex-wrap:wrap;\n",
              "      gap: 12px;\n",
              "    }\n",
              "\n",
              "    .colab-df-convert {\n",
              "      background-color: #E8F0FE;\n",
              "      border: none;\n",
              "      border-radius: 50%;\n",
              "      cursor: pointer;\n",
              "      display: none;\n",
              "      fill: #1967D2;\n",
              "      height: 32px;\n",
              "      padding: 0 0 0 0;\n",
              "      width: 32px;\n",
              "    }\n",
              "\n",
              "    .colab-df-convert:hover {\n",
              "      background-color: #E2EBFA;\n",
              "      box-shadow: 0px 1px 2px rgba(60, 64, 67, 0.3), 0px 1px 3px 1px rgba(60, 64, 67, 0.15);\n",
              "      fill: #174EA6;\n",
              "    }\n",
              "\n",
              "    [theme=dark] .colab-df-convert {\n",
              "      background-color: #3B4455;\n",
              "      fill: #D2E3FC;\n",
              "    }\n",
              "\n",
              "    [theme=dark] .colab-df-convert:hover {\n",
              "      background-color: #434B5C;\n",
              "      box-shadow: 0px 1px 3px 1px rgba(0, 0, 0, 0.15);\n",
              "      filter: drop-shadow(0px 1px 2px rgba(0, 0, 0, 0.3));\n",
              "      fill: #FFFFFF;\n",
              "    }\n",
              "  </style>\n",
              "\n",
              "      <script>\n",
              "        const buttonEl =\n",
              "          document.querySelector('#df-d96141b4-a379-4b0f-bf77-9399ed622997 button.colab-df-convert');\n",
              "        buttonEl.style.display =\n",
              "          google.colab.kernel.accessAllowed ? 'block' : 'none';\n",
              "\n",
              "        async function convertToInteractive(key) {\n",
              "          const element = document.querySelector('#df-d96141b4-a379-4b0f-bf77-9399ed622997');\n",
              "          const dataTable =\n",
              "            await google.colab.kernel.invokeFunction('convertToInteractive',\n",
              "                                                     [key], {});\n",
              "          if (!dataTable) return;\n",
              "\n",
              "          const docLinkHtml = 'Like what you see? Visit the ' +\n",
              "            '<a target=\"_blank\" href=https://colab.research.google.com/notebooks/data_table.ipynb>data table notebook</a>'\n",
              "            + ' to learn more about interactive tables.';\n",
              "          element.innerHTML = '';\n",
              "          dataTable['output_type'] = 'display_data';\n",
              "          await google.colab.output.renderOutput(dataTable, element);\n",
              "          const docLink = document.createElement('div');\n",
              "          docLink.innerHTML = docLinkHtml;\n",
              "          element.appendChild(docLink);\n",
              "        }\n",
              "      </script>\n",
              "    </div>\n",
              "  </div>\n",
              "  "
            ]
          },
          "metadata": {},
          "execution_count": 10
        }
      ]
    },
    {
      "cell_type": "markdown",
      "source": [
        "Son oluşan dataframe'i bir \".csv\" uzantılı dosya olarak Google Drive'a kaydedelim."
      ],
      "metadata": {
        "id": "ZIE5weQmv0Tx"
      }
    },
    {
      "cell_type": "code",
      "source": [
        "dataframe3.to_csv('/content/drive/MyDrive/Colab Notebooks/labodev1.csv', index=True)"
      ],
      "metadata": {
        "id": "m_6d0hVcvjuY"
      },
      "execution_count": 11,
      "outputs": []
    }
  ]
}
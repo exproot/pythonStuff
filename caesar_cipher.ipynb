{
  "nbformat": 4,
  "nbformat_minor": 0,
  "metadata": {
    "colab": {
      "provenance": [],
      "include_colab_link": true
    },
    "kernelspec": {
      "name": "python3",
      "display_name": "Python 3"
    },
    "language_info": {
      "name": "python"
    }
  },
  "cells": [
    {
      "cell_type": "markdown",
      "metadata": {
        "id": "view-in-github",
        "colab_type": "text"
      },
      "source": [
        "<a href=\"https://colab.research.google.com/github/exproot/python/blob/main/caesar_cipher.ipynb\" target=\"_parent\"><img src=\"https://colab.research.google.com/assets/colab-badge.svg\" alt=\"Open In Colab\"/></a>"
      ]
    },
    {
      "cell_type": "markdown",
      "source": [
        "Liste işlemleri"
      ],
      "metadata": {
        "id": "xoFXC0sfSHzb"
      }
    },
    {
      "cell_type": "code",
      "execution_count": null,
      "metadata": {
        "id": "6VottnytK1HH"
      },
      "outputs": [],
      "source": [
        "stackListe = [] #stack listemizin boş hali.\n",
        "normalListe = [\"\",\"\",\"\",\"\", \"\"] # stackten çıkartılan elemanlarla oluşturulacak listemizin boş hali.\n",
        "\n",
        "#stack listesine 5 elemanı ekliyoruz.\n",
        "stackListe.append('Ertan')\n",
        "stackListe.append('Yagmur')\n",
        "stackListe.append('SAMSUN')\n",
        "stackListe.append('Universitesi')\n",
        "stackListe.append('Yazilim')\n",
        "\n",
        "#bu listeyi orjinal.txt adlı bir dosya oluşturup kaydediyoruz.\n",
        "myfile = open(\"/content/orjinal.txt\", \"w\")\n",
        "myfile.writelines(stackListe)\n",
        "myfile.close()\n",
        "\n",
        "#stack listesindeki elemanları çıkartıp normal listeye ekliyoruz.\n",
        "a = 0;\n",
        "while a < 5:\n",
        "  normalListe[a] = stackListe.pop()\n",
        "  a += 1\n",
        "\n",
        "#bu listeyi de sifrelenecek.txt adli dosyaya kaydediyoruz.\n",
        "myfile = open(\"/content/sifrelenecek.txt\", \"w\")\n",
        "myfile.writelines(normalListe)\n",
        "myfile.close()\n"
      ]
    },
    {
      "cell_type": "markdown",
      "source": [
        "Şifreleme İşlemleri"
      ],
      "metadata": {
        "id": "mARgnb6-SJ6N"
      }
    },
    {
      "cell_type": "code",
      "source": [
        "#SEZAR ENCODE ilemlerini gerçekleştirecek fonksiyon\n",
        "\n",
        "def sezar(metin, kaydirma_adimi): # Parametre olarak şifrelenmesini istediğimiz metin ve karakterlerin kaç adım öteleneceğini belirten kaydirma adimi\n",
        "  sifrelenmis_metin = \"\"\n",
        "  for karakter in metin: # metin içinde gezebilmek için bir for dongüsü kuruyoruz.\n",
        "    if karakter.isupper(): # metin içindeki karakterin büyük harf olması durumunda o karakterin şifrelenmesi işlemini bu 'if' blokunda yapıyoruz. string metotlarından 'isupper()' metodu ile kontrol ediyoruz.\n",
        "        \n",
        "        karakter_ascii = ord(karakter)  # karakterin ascii tablosundaki değerini alabilmek için ord() metodunu kullanıyoruz.\n",
        " \n",
        "        karakter_index = karakter_ascii - ord(\"A\")  # karaktere bir index atayabilmek için, şuanda büyük harflerin şifrelemesini yaptığımızdan referans olarak ord(\"A\") alıyoruz.\n",
        "       \n",
        "        yeni_index = (karakter_index + kaydirma_adimi) % 26 # asıl şifreleme işleminin yapıldığı satir: atadığımız indexe kaydirma adimini ekleyip 26 ile modunu alıyoruz. şifrelenmiş harfi yeni indexe atıyoruz. \n",
        "                                                            # 26 olmasının sebebi İngilizce alfabede o kadar harf olması\n",
        "        yeni_ascii = yeni_index + ord(\"A\") # yeni index için şuanda büyük harflerin şifrelemesini yaptığımızdan referans olarak ord(\"A\") alıyoruz.\n",
        "\n",
        "        yeni_karakter = chr(yeni_ascii) # indexin ascii tablosundaki hangi karaktere karşılık geldiğini alabilmek için chr() metodunu kullanıyoruz.\n",
        "\n",
        "        sifrelenmis_metin = sifrelenmis_metin + yeni_karakter\n",
        "        \n",
        "    else: # metin içindeki karakterin küçük harf olması durumunda o karakterin şifrelenmesi işlemini bu 'else' blokunda yapıyoruz.\n",
        "        \n",
        "        karakter_ascii = ord(karakter) # karakterin ascii tablosundaki değerini alabilmek için ord() metodunu kullanıyoruz.\n",
        "\n",
        "        karakter_index = karakter_ascii - ord(\"a\") # karaktere bir index atayabilmek için, şuanda küçük harflerin şifrelemesini yaptığımızdan referans olarak ord(\"a\") alıyoruz.\n",
        "\n",
        "        yeni_index = (karakter_index + kaydirma_adimi) % 26 # asıl şifreleme işleminin yapıldığı satir: atadığımız indexe kaydirma adimini ekleyip 26 ile modunu alıyoruz. şifrelenmiş harfi yeni indexe atıyoruz.\n",
        "                                                            # 26 olmasının sebebi İngilizce alfabede o kadar harf olması\n",
        "        yeni_ascii = yeni_index + ord(\"a\") # yeni index için şuanda küçük harflerin şifrelemesini yaptığımızdan referans olarak ord(\"a\") alıyoruz.\n",
        "\n",
        "        yeni_karakter = chr(yeni_ascii) # indexin ascii tablosundaki hangi karaktere karşılık geldiğini alabilmek için chr() metodunu kullanıyoruz.\n",
        "\n",
        "        sifrelenmis_metin = sifrelenmis_metin + yeni_karakter \n",
        "  return sifrelenmis_metin\n",
        "\n",
        "\n",
        "#sifrelenecek.txt adlı dosyadan texti alıp fonksiyon yardımıyla şifreliyoruz.\n",
        "dosya = open(\"/content/sifrelenecek.txt\", \"r\")\n",
        "sifrelenecekMetin = dosya.readline()\n",
        "dosya.close()\n",
        "\n",
        "#şifrelenmiş metni sifrelenmis.txt adlı dosyaya kaydediyoruz.\n",
        "dosya = open(\"/content/sifrelenmis.txt\", \"w\")\n",
        "dosya.write(sezar(sifrelenecekMetin, 3))\n",
        "dosya.close()"
      ],
      "metadata": {
        "id": "cPcooVQqPETX"
      },
      "execution_count": null,
      "outputs": []
    },
    {
      "cell_type": "markdown",
      "source": [
        "Sonuç"
      ],
      "metadata": {
        "id": "poERyOCGSMPQ"
      }
    },
    {
      "cell_type": "code",
      "source": [
        "#Orjinal Metini okuyup yazdırıyoruz.\n",
        "dosya = open(\"/content/orjinal.txt\", \"r\")\n",
        "print(dosya.readlines())\n",
        "dosya.close()\n",
        "\n",
        "#Şifrelenecek Metini okuyup yazdırıyoruz.\n",
        "dosya = open(\"/content/sifrelenecek.txt\", \"r\")\n",
        "print(dosya.readlines())\n",
        "dosya.close()\n",
        "\n",
        "#Şifrelenmiş Metini okuyup yazdırıyoruz.\n",
        "dosya = open(\"/content/sifrelenmis.txt\", \"r\")\n",
        "print(dosya.readlines())\n",
        "dosya.close()"
      ],
      "metadata": {
        "colab": {
          "base_uri": "https://localhost:8080/"
        },
        "id": "Ee2TqOV1Qhb-",
        "outputId": "073f2401-c07f-41f2-bb30-31d54e21f838"
      },
      "execution_count": null,
      "outputs": [
        {
          "output_type": "stream",
          "name": "stdout",
          "text": [
            "['ErtanYagmurSAMSUNUniversitesiYazilim']\n",
            "['YazilimUniversitesiSAMSUNYagmurErtan']\n",
            "['BdclolpXqlyhuvlwhvlVDPVXQBdjpxuHuwdq']\n"
          ]
        }
      ]
    }
  ]
}
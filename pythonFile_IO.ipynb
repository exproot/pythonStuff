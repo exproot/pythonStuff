{
  "nbformat": 4,
  "nbformat_minor": 0,
  "metadata": {
    "colab": {
      "provenance": [],
      "include_colab_link": true
    },
    "kernelspec": {
      "name": "python3",
      "display_name": "Python 3"
    },
    "language_info": {
      "name": "python"
    }
  },
  "cells": [
    {
      "cell_type": "markdown",
      "metadata": {
        "id": "view-in-github",
        "colab_type": "text"
      },
      "source": [
        "<a href=\"https://colab.research.google.com/github/exproot/python/blob/main/pythonFile_IO.ipynb\" target=\"_parent\"><img src=\"https://colab.research.google.com/assets/colab-badge.svg\" alt=\"Open In Colab\"/></a>"
      ]
    },
    {
      "cell_type": "markdown",
      "source": [
        "Python File IO"
      ],
      "metadata": {
        "id": "7PGV8mQIoMim"
      }
    },
    {
      "cell_type": "markdown",
      "source": [
        "-----------File Creation and Opening------------"
      ],
      "metadata": {
        "id": "oI2tMNR8oVvT"
      }
    },
    {
      "cell_type": "markdown",
      "source": [
        "file = open(file_name, mode) \n",
        "\n",
        "\n",
        "Mods : r = Reading  \n",
        "w = Writing  \n",
        "a = Append  \n",
        "r+= Read n Write\n",
        "a+ = Append or Read  "
      ],
      "metadata": {
        "id": "I6kirQErpE2l"
      }
    },
    {
      "cell_type": "code",
      "execution_count": null,
      "metadata": {
        "colab": {
          "base_uri": "https://localhost:8080/"
        },
        "id": "sGVLlTPvnSGZ",
        "outputId": "8104d685-59a4-45a8-be02-b15ec110a52c"
      },
      "outputs": [
        {
          "output_type": "stream",
          "name": "stdout",
          "text": [
            "Mounted at /content/drive\n"
          ]
        }
      ],
      "source": [
        "from google.colab import drive\n",
        "drive.mount('/content/drive')"
      ]
    },
    {
      "cell_type": "markdown",
      "source": [
        "File Creation"
      ],
      "metadata": {
        "id": "lwjRcpliq7Nt"
      }
    },
    {
      "cell_type": "code",
      "source": [
        "dosya = open(\"/content/drive/MyDrive/Colab Notebooks/ertan.txt\", \"w\")\n",
        "dosya"
      ],
      "metadata": {
        "colab": {
          "base_uri": "https://localhost:8080/"
        },
        "id": "A0cMzZFQqjQU",
        "outputId": "0c428acd-64bc-403e-dda5-0bec23e1b762"
      },
      "execution_count": null,
      "outputs": [
        {
          "output_type": "execute_result",
          "data": {
            "text/plain": [
              "<_io.TextIOWrapper name='/content/drive/MyDrive/Colab Notebooks/ertan.txt' mode='w' encoding='UTF-8'>"
            ]
          },
          "metadata": {},
          "execution_count": 10
        }
      ]
    },
    {
      "cell_type": "markdown",
      "source": [
        "------------------Writing to a file----------------"
      ],
      "metadata": {
        "id": "FStj_jHpq9C9"
      }
    },
    {
      "cell_type": "markdown",
      "source": [
        "While writing the files it erases all the data and overwrites it so be careful when you doing this.\n",
        "\n",
        "\n",
        "write(string)\n",
        "\n",
        "writelines(list)"
      ],
      "metadata": {
        "id": "yQEdtK84rcX9"
      }
    },
    {
      "cell_type": "code",
      "source": [
        "dosya = open(\"/content/drive/MyDrive/Colab Notebooks/ertan.txt\", \"w\")\n",
        "\n",
        "dosya.write(\"Hi\")\n",
        "dosya.close()"
      ],
      "metadata": {
        "id": "z4YS5vw5q1nV"
      },
      "execution_count": null,
      "outputs": []
    },
    {
      "cell_type": "markdown",
      "source": [
        "Writing a list to a file.\n",
        "\n",
        "using writelines(list) method."
      ],
      "metadata": {
        "id": "WeaOt-OOtfF1"
      }
    },
    {
      "cell_type": "code",
      "source": [
        "liste = [\"Ertan\", \"Havertz\", \"Yagmur\" \"\\n\", \"29\"] \n",
        "\n",
        "dosya = open(\"/content/drive/MyDrive/Colab Notebooks/ertan2.txt\", \"w\")\n",
        "\n",
        "dosya.writelines(liste)\n",
        "dosya.close()"
      ],
      "metadata": {
        "id": "8Hh6I9PFscil"
      },
      "execution_count": null,
      "outputs": []
    },
    {
      "cell_type": "markdown",
      "source": [
        "-----------------Reading Files------------------\n",
        "\n",
        "There are 3 ways to read a file in python :\n",
        "\n",
        "read(n)\n",
        "\n",
        "readline[n)\n",
        "\n",
        "readlines()\n",
        "\n",
        "n is the amount of bytes to read"
      ],
      "metadata": {
        "id": "t1TN6zlwtn9V"
      }
    },
    {
      "cell_type": "code",
      "source": [
        "dosya = open(\"/content/drive/MyDrive/Colab Notebooks/ertan2.txt\", \"r\")\n",
        "\n",
        "print(dosya.read(3))\n",
        "print(dosya.readline(1))\n",
        "print(dosya.readlines())"
      ],
      "metadata": {
        "colab": {
          "base_uri": "https://localhost:8080/"
        },
        "id": "rE0NiH9buGD1",
        "outputId": "d25860b7-57ad-4bbc-cd5c-6ab3ecc30714"
      },
      "execution_count": null,
      "outputs": [
        {
          "output_type": "stream",
          "name": "stdout",
          "text": [
            "Ert\n",
            "a\n",
            "['nHavertzYagmur\\n', '29']\n"
          ]
        }
      ]
    },
    {
      "cell_type": "markdown",
      "source": [
        "---------------------Appending files-----------------------\n"
      ],
      "metadata": {
        "id": "TcDy7lwUvXO1"
      }
    },
    {
      "cell_type": "code",
      "source": [
        "dosya = dosya = open(\"/content/drive/MyDrive/Colab Notebooks/ertan2.txt\", \"a+\")\n",
        "dosya.write(\" \\n Samsun\")\n",
        "dosya.close()"
      ],
      "metadata": {
        "id": "yVgcZVbnv-6k"
      },
      "execution_count": null,
      "outputs": []
    },
    {
      "cell_type": "markdown",
      "source": [
        "------Using try... except... finally on Python IO-------"
      ],
      "metadata": {
        "id": "BH44TUzixCts"
      }
    },
    {
      "cell_type": "code",
      "source": [
        "try:\n",
        "  dosya = open(\"/content/drive/MyDrive/Colab Notebooks/ertan2.txt\", \"r\")\n",
        "  print(dosya.read())\n",
        "except:\n",
        "  print(\"An error occured while reading the file.\")\n",
        "finally:\n",
        "  dosya.close()"
      ],
      "metadata": {
        "colab": {
          "base_uri": "https://localhost:8080/"
        },
        "id": "zj3DmMJxxP-F",
        "outputId": "22fcf627-55b7-47d2-df21-a913c7754a90"
      },
      "execution_count": null,
      "outputs": [
        {
          "output_type": "stream",
          "name": "stdout",
          "text": [
            "ErtanHavertzYagmur \n",
            " Samsun\n"
          ]
        }
      ]
    },
    {
      "cell_type": "code",
      "source": [
        "try:\n",
        "  dosya = open(\"/content/drive/MyDrive/Colab Notebooks/ertan2.txt\", \"w\")\n",
        "  dosya.write(\"Success.\")\n",
        "except:\n",
        "  print(\"An error occured while writing the file.\")\n",
        "finally:\n",
        "  dosya.close()"
      ],
      "metadata": {
        "id": "1KGzMLzMxzet"
      },
      "execution_count": null,
      "outputs": []
    },
    {
      "cell_type": "markdown",
      "source": [
        "---------Using with in Python IO------------\n",
        "\n",
        "It closes the file automatically, no need to use close() method."
      ],
      "metadata": {
        "id": "_ToLLTS8yBkE"
      }
    },
    {
      "cell_type": "code",
      "source": [
        "with open(\"/content/drive/MyDrive/Colab Notebooks/ertan2.txt\", \"r\") as dosya:\n",
        "  print(dosya.read())"
      ],
      "metadata": {
        "colab": {
          "base_uri": "https://localhost:8080/"
        },
        "id": "OsOu53xUyQAV",
        "outputId": "31f5ad7f-2751-4c4d-fc9c-06fae7f29abc"
      },
      "execution_count": null,
      "outputs": [
        {
          "output_type": "stream",
          "name": "stdout",
          "text": [
            "Success.\n"
          ]
        }
      ]
    }
  ]
}
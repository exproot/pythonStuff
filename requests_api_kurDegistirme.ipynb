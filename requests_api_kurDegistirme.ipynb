{
  "nbformat": 4,
  "nbformat_minor": 0,
  "metadata": {
    "colab": {
      "provenance": [],
      "authorship_tag": "ABX9TyNNqhsiHNt/4IRPX6FjnIPu",
      "include_colab_link": true
    },
    "kernelspec": {
      "name": "python3",
      "display_name": "Python 3"
    },
    "language_info": {
      "name": "python"
    }
  },
  "cells": [
    {
      "cell_type": "markdown",
      "metadata": {
        "id": "view-in-github",
        "colab_type": "text"
      },
      "source": [
        "<a href=\"https://colab.research.google.com/github/exproot/python/blob/main/requests_api_kurDegistirme.ipynb\" target=\"_parent\"><img src=\"https://colab.research.google.com/assets/colab-badge.svg\" alt=\"Open In Colab\"/></a>"
      ]
    },
    {
      "cell_type": "markdown",
      "source": [
        "Belirli bir tarihteki 2 Kuru birbirine değiştiren program.\n"
      ],
      "metadata": {
        "id": "CPw9wmE7zWE2"
      }
    },
    {
      "cell_type": "code",
      "execution_count": null,
      "metadata": {
        "id": "SkAyTL1Kq4CS"
      },
      "outputs": [],
      "source": [
        "import requests"
      ]
    },
    {
      "cell_type": "code",
      "source": [
        "API_key = \"6621c1315710a177de753d022926de46\" # api keyim\n",
        "date = \"2019-07-10\" # kur değerleri için istediğim tarih\n",
        "url = f\"http://data.fixer.io/api/{date}?access_key={API_key}\" # url\n",
        "url\n"
      ],
      "metadata": {
        "colab": {
          "base_uri": "https://localhost:8080/",
          "height": 35
        },
        "id": "ZG6QjxXbq9wF",
        "outputId": "10e2c3ff-c83b-4300-9034-5df5bd769504"
      },
      "execution_count": null,
      "outputs": [
        {
          "output_type": "execute_result",
          "data": {
            "text/plain": [
              "'http://data.fixer.io/api/2019-07-10?access_key=6621c1315710a177de753d022926de46'"
            ],
            "application/vnd.google.colaboratory.intrinsic+json": {
              "type": "string"
            }
          },
          "metadata": {},
          "execution_count": 68
        }
      ]
    },
    {
      "cell_type": "code",
      "source": [
        "#verileri alan fonksiyon\n",
        "def get_data(url):\n",
        "  content = requests.get(url)\n",
        "  data1 = content.json()\n",
        "  rates = data1[\"rates\"]\n",
        "  return rates\n"
      ],
      "metadata": {
        "id": "EF2-D1ItrL3d"
      },
      "execution_count": null,
      "outputs": []
    },
    {
      "cell_type": "code",
      "source": [
        "rates = get_data(url) # istediğim tarihteki kur değerlerini içeren sözlük.\n",
        "type(rates)"
      ],
      "metadata": {
        "colab": {
          "base_uri": "https://localhost:8080/"
        },
        "id": "EWDMHvRrsN7q",
        "outputId": "b5d84ba7-9f11-455a-afcf-6603f828e6df"
      },
      "execution_count": null,
      "outputs": [
        {
          "output_type": "execute_result",
          "data": {
            "text/plain": [
              "dict"
            ]
          },
          "metadata": {},
          "execution_count": 70
        }
      ]
    },
    {
      "cell_type": "code",
      "source": [
        "#dönüştürme işlemini yapan fonksiyon\n",
        "def converter(currencyFrom, currencyTo, amount):\n",
        "  initial_amount = amount\n",
        "  if currencyFrom != 'TRY' :\n",
        "    amount = amount / rates[currencyFrom]\n",
        "  \n",
        "  amount = round(amount * rates[currencyTo], 2)\n",
        "  print('{0} {1} = {2} {3}'.format(initial_amount, currencyFrom, amount, currencyTo))"
      ],
      "metadata": {
        "id": "Yzos1xrEtNGB"
      },
      "execution_count": null,
      "outputs": []
    },
    {
      "cell_type": "code",
      "source": [
        "#dönüştürme işlemini gerçekleştirdik.\n",
        "cFrom = input('From : ')\n",
        "cTo = input('To : ')\n",
        "amount = int(input('Amount : '))\n",
        "\n",
        "converter(cFrom, cTo, amount)"
      ],
      "metadata": {
        "colab": {
          "base_uri": "https://localhost:8080/"
        },
        "id": "_osG-ReJvfC3",
        "outputId": "1ce58ab2-485e-4964-bbc2-bf17e50df7af"
      },
      "execution_count": null,
      "outputs": [
        {
          "output_type": "stream",
          "name": "stdout",
          "text": [
            "From : EUR\n",
            "To : TRY\n",
            "Amount : 1\n",
            "1 EUR = 6.4 TRY\n"
          ]
        }
      ]
    }
  ]
}